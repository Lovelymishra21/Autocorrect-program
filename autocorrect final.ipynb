{
 "cells": [
  {
   "cell_type": "markdown",
   "id": "61ca6c3b",
   "metadata": {},
   "source": [
    "# BHARAT INTERN \n",
    "BY \n",
    "LOVELY MISHRA \n",
    "\n",
    "TAASK NO : 2\n",
    "    \n",
    "PROJECT: AUTO CORRECTOR  "
   ]
  },
  {
   "cell_type": "code",
   "execution_count": 1,
   "id": "a7d6d745",
   "metadata": {},
   "outputs": [],
   "source": [
    "import re\n",
    "from collections import Counter\n",
    "\n"
   ]
  },
  {
   "cell_type": "code",
   "execution_count": 2,
   "id": "a7ca8a3d",
   "metadata": {},
   "outputs": [],
   "source": [
    "def load_words(file_path):\n",
    "    with open(file_path, 'r', encoding='utf-8') as f:\n",
    "        text = f.read().lower()\n",
    "        words = re.findall(r'\\w+', text)\n",
    "        return Counter(words)\n",
    "\n"
   ]
  },
  {
   "cell_type": "code",
   "execution_count": 3,
   "id": "e699505d",
   "metadata": {},
   "outputs": [],
   "source": [
    "def autocorrect(word, word_freq):\n",
    "    candidates = known([word]) or known(edits1(word)) or known(edits2(word)) or [word]\n",
    "    return max(candidates, key=lambda w: word_freq[w])\n",
    "\n"
   ]
  },
  {
   "cell_type": "code",
   "execution_count": 4,
   "id": "59e9ce07",
   "metadata": {},
   "outputs": [],
   "source": [
    "def known(words):\n",
    "    return set(w for w in words if w in word_freq)\n",
    "\n"
   ]
  },
  {
   "cell_type": "code",
   "execution_count": 5,
   "id": "4ef2a2d5",
   "metadata": {},
   "outputs": [],
   "source": [
    "def edits1(word):\n",
    "    letters = 'abcdefghijklmnopqrstuvwxyz'\n",
    "    splits = [(word[:i], word[i:]) for i in range(len(word) + 1)]\n",
    "    deletes = [L + R[1:] for L, R in splits if R]\n",
    "    transposes = [L + R[1] + R[0] + R[2:] for L, R in splits if len(R) > 1]\n",
    "    replaces = [L + c + R[1:] for L, R in splits if R for c in letters]\n",
    "    inserts = [L + c + R for L, R in splits for c in letters]\n",
    "    return set(deletes + transposes + replaces + inserts)\n",
    "\n"
   ]
  },
  {
   "cell_type": "code",
   "execution_count": 6,
   "id": "0aee5bd9",
   "metadata": {},
   "outputs": [
    {
     "name": "stdout",
     "output_type": "stream",
     "text": [
      "Enter a word (or 'q' to quit): ENTELLIJENT \n",
      "Did you mean: entellijent \n",
      "Enter a word (or 'q' to quit): ENTELLJENT\n",
      "Did you mean: entelljent\n",
      "Enter a word (or 'q' to quit): TISH\n",
      "Did you mean: tish\n",
      "Enter a word (or 'q' to quit): HISF\n",
      "Did you mean: his\n",
      "Enter a word (or 'q' to quit): entellijent\n",
      "Did you mean: intelligent\n",
      "Enter a word (or 'q' to quit): q\n"
     ]
    }
   ],
   "source": [
    "def edits2(word):\n",
    "    return set(e2 for e1 in edits1(word) for e2 in edits1(e1))\n",
    "\n",
    "# Load the word frequency dictionary\n",
    "word_freq = load_words(\"C://Users//prath//OneDrive//Desktop//autocorrect//auto.txt\")\n",
    "\n",
    "# Main program loop\n",
    "while True:\n",
    "    user_input = input(\"Enter a word (or 'q' to quit): \")\n",
    "    \n",
    "    if user_input.lower() == 'q':\n",
    "        break\n",
    "    \n",
    "    corrected_word = autocorrect(user_input.lower(), word_freq)\n",
    "    print(\"Did you mean:\", corrected_word)\n"
   ]
  },
  {
   "cell_type": "code",
   "execution_count": null,
   "id": "7d889747",
   "metadata": {},
   "outputs": [],
   "source": []
  }
 ],
 "metadata": {
  "kernelspec": {
   "display_name": "Python 3 (ipykernel)",
   "language": "python",
   "name": "python3"
  },
  "language_info": {
   "codemirror_mode": {
    "name": "ipython",
    "version": 3
   },
   "file_extension": ".py",
   "mimetype": "text/x-python",
   "name": "python",
   "nbconvert_exporter": "python",
   "pygments_lexer": "ipython3",
   "version": "3.9.12"
  }
 },
 "nbformat": 4,
 "nbformat_minor": 5
}
